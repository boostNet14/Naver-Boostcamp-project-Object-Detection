{
 "cells": [
  {
   "cell_type": "markdown",
   "metadata": {},
   "source": [
    "# Raw Image Size Analysis\n",
    "---\n",
    "## Object\n",
    "- Train/Test의 모든 이미지를 확인, 이미지의 크기를 시각화"
   ]
  },
  {
   "cell_type": "markdown",
   "metadata": {},
   "source": [
    "### Import"
   ]
  },
  {
   "cell_type": "code",
   "execution_count": 1,
   "metadata": {},
   "outputs": [],
   "source": [
    "import cv2\n",
    "import os\n",
    "import seaborn\n",
    "import json\n",
    "import multiprocessing as mp\n",
    "from tqdm import tqdm\n",
    "import math\n",
    "import pandas as pd"
   ]
  },
  {
   "cell_type": "markdown",
   "metadata": {},
   "source": [
    "### Config"
   ]
  },
  {
   "cell_type": "code",
   "execution_count": 2,
   "metadata": {},
   "outputs": [],
   "source": [
    "CONFIG = {\n",
    "    \"path_data\":\"../../../dataset/\",\n",
    "    \"info_data_train\":\"train.json\",  # images, annotations\n",
    "    \"info_data_test\":\"test.json\",\n",
    "}"
   ]
  },
  {
   "cell_type": "markdown",
   "metadata": {},
   "source": [
    "### Load Json"
   ]
  },
  {
   "cell_type": "code",
   "execution_count": 3,
   "metadata": {},
   "outputs": [],
   "source": [
    "with open(os.path.join(CONFIG['path_data'], CONFIG['info_data_train'])) as js:\n",
    "    json_train = json.load(js)\n",
    "with open(os.path.join(CONFIG['path_data'], CONFIG['info_data_test'])) as js:\n",
    "    json_test = json.load(js)"
   ]
  },
  {
   "cell_type": "code",
   "execution_count": 4,
   "metadata": {},
   "outputs": [],
   "source": [
    "info_train = json_train['images']\n",
    "annotations_train = json_train['annotations']\n",
    "info_test = json_test['images']\n",
    "annotations_test = json_test['annotations']"
   ]
  },
  {
   "cell_type": "code",
   "execution_count": 5,
   "metadata": {},
   "outputs": [
    {
     "name": "stderr",
     "output_type": "stream",
     "text": [
      "100%|██████████| 4883/4883 [00:06<00:00, 701.52it/s] \n",
      "100%|██████████| 4871/4871 [00:06<00:00, 709.13it/s]\n"
     ]
    }
   ],
   "source": [
    "def get_real_image_size(args):\n",
    "    img = cv2.imread(os.path.join(CONFIG['path_data'], args['file_name']))\n",
    "    h,w,c = img.shape\n",
    "    args['width_real'] = w \n",
    "    args['height_real'] = h \n",
    "    return args\n",
    "\n",
    "pool = mp.Pool()\n",
    "info_train = pool.map(get_real_image_size, tqdm(info_train))\n",
    "info_test = pool.map(get_real_image_size, tqdm(info_test))"
   ]
  },
  {
   "cell_type": "code",
   "execution_count": 6,
   "metadata": {},
   "outputs": [
    {
     "data": {
      "text/html": [
       "<div>\n",
       "<style scoped>\n",
       "    .dataframe tbody tr th:only-of-type {\n",
       "        vertical-align: middle;\n",
       "    }\n",
       "\n",
       "    .dataframe tbody tr th {\n",
       "        vertical-align: top;\n",
       "    }\n",
       "\n",
       "    .dataframe thead th {\n",
       "        text-align: right;\n",
       "    }\n",
       "</style>\n",
       "<table border=\"1\" class=\"dataframe\">\n",
       "  <thead>\n",
       "    <tr style=\"text-align: right;\">\n",
       "      <th></th>\n",
       "      <th>width</th>\n",
       "      <th>height</th>\n",
       "      <th>license</th>\n",
       "      <th>id</th>\n",
       "      <th>width_real</th>\n",
       "      <th>height_real</th>\n",
       "    </tr>\n",
       "  </thead>\n",
       "  <tbody>\n",
       "    <tr>\n",
       "      <th>count</th>\n",
       "      <td>4883.0</td>\n",
       "      <td>4883.0</td>\n",
       "      <td>4883.0</td>\n",
       "      <td>4883.000000</td>\n",
       "      <td>4883.0</td>\n",
       "      <td>4883.0</td>\n",
       "    </tr>\n",
       "    <tr>\n",
       "      <th>mean</th>\n",
       "      <td>1024.0</td>\n",
       "      <td>1024.0</td>\n",
       "      <td>0.0</td>\n",
       "      <td>2441.000000</td>\n",
       "      <td>1024.0</td>\n",
       "      <td>1024.0</td>\n",
       "    </tr>\n",
       "    <tr>\n",
       "      <th>std</th>\n",
       "      <td>0.0</td>\n",
       "      <td>0.0</td>\n",
       "      <td>0.0</td>\n",
       "      <td>1409.745012</td>\n",
       "      <td>0.0</td>\n",
       "      <td>0.0</td>\n",
       "    </tr>\n",
       "    <tr>\n",
       "      <th>min</th>\n",
       "      <td>1024.0</td>\n",
       "      <td>1024.0</td>\n",
       "      <td>0.0</td>\n",
       "      <td>0.000000</td>\n",
       "      <td>1024.0</td>\n",
       "      <td>1024.0</td>\n",
       "    </tr>\n",
       "    <tr>\n",
       "      <th>25%</th>\n",
       "      <td>1024.0</td>\n",
       "      <td>1024.0</td>\n",
       "      <td>0.0</td>\n",
       "      <td>1220.500000</td>\n",
       "      <td>1024.0</td>\n",
       "      <td>1024.0</td>\n",
       "    </tr>\n",
       "    <tr>\n",
       "      <th>50%</th>\n",
       "      <td>1024.0</td>\n",
       "      <td>1024.0</td>\n",
       "      <td>0.0</td>\n",
       "      <td>2441.000000</td>\n",
       "      <td>1024.0</td>\n",
       "      <td>1024.0</td>\n",
       "    </tr>\n",
       "    <tr>\n",
       "      <th>75%</th>\n",
       "      <td>1024.0</td>\n",
       "      <td>1024.0</td>\n",
       "      <td>0.0</td>\n",
       "      <td>3661.500000</td>\n",
       "      <td>1024.0</td>\n",
       "      <td>1024.0</td>\n",
       "    </tr>\n",
       "    <tr>\n",
       "      <th>max</th>\n",
       "      <td>1024.0</td>\n",
       "      <td>1024.0</td>\n",
       "      <td>0.0</td>\n",
       "      <td>4882.000000</td>\n",
       "      <td>1024.0</td>\n",
       "      <td>1024.0</td>\n",
       "    </tr>\n",
       "  </tbody>\n",
       "</table>\n",
       "</div>"
      ],
      "text/plain": [
       "        width  height  license           id  width_real  height_real\n",
       "count  4883.0  4883.0   4883.0  4883.000000      4883.0       4883.0\n",
       "mean   1024.0  1024.0      0.0  2441.000000      1024.0       1024.0\n",
       "std       0.0     0.0      0.0  1409.745012         0.0          0.0\n",
       "min    1024.0  1024.0      0.0     0.000000      1024.0       1024.0\n",
       "25%    1024.0  1024.0      0.0  1220.500000      1024.0       1024.0\n",
       "50%    1024.0  1024.0      0.0  2441.000000      1024.0       1024.0\n",
       "75%    1024.0  1024.0      0.0  3661.500000      1024.0       1024.0\n",
       "max    1024.0  1024.0      0.0  4882.000000      1024.0       1024.0"
      ]
     },
     "execution_count": 6,
     "metadata": {},
     "output_type": "execute_result"
    }
   ],
   "source": [
    "df_info_train = pd.DataFrame(info_train)\n",
    "df_info_train.describe()"
   ]
  },
  {
   "cell_type": "code",
   "execution_count": 7,
   "metadata": {},
   "outputs": [
    {
     "data": {
      "text/html": [
       "<div>\n",
       "<style scoped>\n",
       "    .dataframe tbody tr th:only-of-type {\n",
       "        vertical-align: middle;\n",
       "    }\n",
       "\n",
       "    .dataframe tbody tr th {\n",
       "        vertical-align: top;\n",
       "    }\n",
       "\n",
       "    .dataframe thead th {\n",
       "        text-align: right;\n",
       "    }\n",
       "</style>\n",
       "<table border=\"1\" class=\"dataframe\">\n",
       "  <thead>\n",
       "    <tr style=\"text-align: right;\">\n",
       "      <th></th>\n",
       "      <th>width</th>\n",
       "      <th>height</th>\n",
       "      <th>license</th>\n",
       "      <th>id</th>\n",
       "      <th>width_real</th>\n",
       "      <th>height_real</th>\n",
       "    </tr>\n",
       "  </thead>\n",
       "  <tbody>\n",
       "    <tr>\n",
       "      <th>count</th>\n",
       "      <td>4871.0</td>\n",
       "      <td>4871.0</td>\n",
       "      <td>4871.0</td>\n",
       "      <td>4871.000000</td>\n",
       "      <td>4871.0</td>\n",
       "      <td>4871.0</td>\n",
       "    </tr>\n",
       "    <tr>\n",
       "      <th>mean</th>\n",
       "      <td>1024.0</td>\n",
       "      <td>1024.0</td>\n",
       "      <td>0.0</td>\n",
       "      <td>2435.000000</td>\n",
       "      <td>1024.0</td>\n",
       "      <td>1024.0</td>\n",
       "    </tr>\n",
       "    <tr>\n",
       "      <th>std</th>\n",
       "      <td>0.0</td>\n",
       "      <td>0.0</td>\n",
       "      <td>0.0</td>\n",
       "      <td>1406.280911</td>\n",
       "      <td>0.0</td>\n",
       "      <td>0.0</td>\n",
       "    </tr>\n",
       "    <tr>\n",
       "      <th>min</th>\n",
       "      <td>1024.0</td>\n",
       "      <td>1024.0</td>\n",
       "      <td>0.0</td>\n",
       "      <td>0.000000</td>\n",
       "      <td>1024.0</td>\n",
       "      <td>1024.0</td>\n",
       "    </tr>\n",
       "    <tr>\n",
       "      <th>25%</th>\n",
       "      <td>1024.0</td>\n",
       "      <td>1024.0</td>\n",
       "      <td>0.0</td>\n",
       "      <td>1217.500000</td>\n",
       "      <td>1024.0</td>\n",
       "      <td>1024.0</td>\n",
       "    </tr>\n",
       "    <tr>\n",
       "      <th>50%</th>\n",
       "      <td>1024.0</td>\n",
       "      <td>1024.0</td>\n",
       "      <td>0.0</td>\n",
       "      <td>2435.000000</td>\n",
       "      <td>1024.0</td>\n",
       "      <td>1024.0</td>\n",
       "    </tr>\n",
       "    <tr>\n",
       "      <th>75%</th>\n",
       "      <td>1024.0</td>\n",
       "      <td>1024.0</td>\n",
       "      <td>0.0</td>\n",
       "      <td>3652.500000</td>\n",
       "      <td>1024.0</td>\n",
       "      <td>1024.0</td>\n",
       "    </tr>\n",
       "    <tr>\n",
       "      <th>max</th>\n",
       "      <td>1024.0</td>\n",
       "      <td>1024.0</td>\n",
       "      <td>0.0</td>\n",
       "      <td>4870.000000</td>\n",
       "      <td>1024.0</td>\n",
       "      <td>1024.0</td>\n",
       "    </tr>\n",
       "  </tbody>\n",
       "</table>\n",
       "</div>"
      ],
      "text/plain": [
       "        width  height  license           id  width_real  height_real\n",
       "count  4871.0  4871.0   4871.0  4871.000000      4871.0       4871.0\n",
       "mean   1024.0  1024.0      0.0  2435.000000      1024.0       1024.0\n",
       "std       0.0     0.0      0.0  1406.280911         0.0          0.0\n",
       "min    1024.0  1024.0      0.0     0.000000      1024.0       1024.0\n",
       "25%    1024.0  1024.0      0.0  1217.500000      1024.0       1024.0\n",
       "50%    1024.0  1024.0      0.0  2435.000000      1024.0       1024.0\n",
       "75%    1024.0  1024.0      0.0  3652.500000      1024.0       1024.0\n",
       "max    1024.0  1024.0      0.0  4870.000000      1024.0       1024.0"
      ]
     },
     "execution_count": 7,
     "metadata": {},
     "output_type": "execute_result"
    }
   ],
   "source": [
    "df_info_test = pd.DataFrame(info_test)\n",
    "df_info_test.describe()"
   ]
  },
  {
   "cell_type": "code",
   "execution_count": null,
   "metadata": {},
   "outputs": [],
   "source": []
  }
 ],
 "metadata": {
  "kernelspec": {
   "display_name": "Python 3.8.5 ('level2_objectdetection_cv-level2-cv-18-t3uDTNht': pipenv)",
   "language": "python",
   "name": "python3"
  },
  "language_info": {
   "codemirror_mode": {
    "name": "ipython",
    "version": 3
   },
   "file_extension": ".py",
   "mimetype": "text/x-python",
   "name": "python",
   "nbconvert_exporter": "python",
   "pygments_lexer": "ipython3",
   "version": "3.8.5"
  },
  "orig_nbformat": 4,
  "vscode": {
   "interpreter": {
    "hash": "61e9ebdc0d31fad5e883cf2ac28a647f3eb3ae68ad120f6bd918e52a4b89fa54"
   }
  }
 },
 "nbformat": 4,
 "nbformat_minor": 2
}
