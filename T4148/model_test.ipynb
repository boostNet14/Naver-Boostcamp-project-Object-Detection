{
 "cells": [
  {
   "cell_type": "code",
   "execution_count": 1,
   "metadata": {},
   "outputs": [],
   "source": [
    "pretrained = 'https://github.com/SwinTransformer/storage/releases/download/v2.0.0/swinv2_large_patch4_window12_192_22k.pth'  # noqa\n",
    "\n",
    "model = dict(\n",
    "    backbone=dict(\n",
    "        _delete_=True,\n",
    "        type='SwinTransformer',\n",
    "        embed_dims=96,\n",
    "        depths=[2, 2, 6, 2],\n",
    "        num_heads=[3, 6, 12, 24],\n",
    "        window_size=7,\n",
    "        mlp_ratio=4,\n",
    "        qkv_bias=True,\n",
    "        qk_scale=None,\n",
    "        drop_rate=0.,\n",
    "        attn_drop_rate=0.,\n",
    "        drop_path_rate=0.2,\n",
    "        patch_norm=True,\n",
    "        out_indices=(1, 2, 3),\n",
    "        # Please only add indices that would be used\n",
    "        # in FPN, otherwise some parameter will not be used\n",
    "        with_cp=False,\n",
    "        convert_weights=True,\n",
    "        init_cfg=dict(type='Pretrained', checkpoint=pretrained)),\n",
    "    neck=dict(in_channels=[192, 384, 768], start_level=0, num_outs=5))"
   ]
  },
  {
   "cell_type": "code",
   "execution_count": 3,
   "metadata": {},
   "outputs": [
    {
     "data": {
      "text/plain": [
       "{'backbone': {'_delete_': True,\n",
       "  'type': 'SwinTransformer',\n",
       "  'embed_dims': 96,\n",
       "  'depths': [2, 2, 6, 2],\n",
       "  'num_heads': [3, 6, 12, 24],\n",
       "  'window_size': 7,\n",
       "  'mlp_ratio': 4,\n",
       "  'qkv_bias': True,\n",
       "  'qk_scale': None,\n",
       "  'drop_rate': 0.0,\n",
       "  'attn_drop_rate': 0.0,\n",
       "  'drop_path_rate': 0.2,\n",
       "  'patch_norm': True,\n",
       "  'out_indices': (1, 2, 3),\n",
       "  'with_cp': False,\n",
       "  'convert_weights': True,\n",
       "  'init_cfg': {'type': 'Pretrained',\n",
       "   'checkpoint': 'https://github.com/SwinTransformer/storage/releases/download/v2.0.0/swinv2_large_patch4_window12_192_22k.pth'}},\n",
       " 'neck': {'in_channels': [192, 384, 768], 'start_level': 0, 'num_outs': 5}}"
      ]
     },
     "execution_count": 3,
     "metadata": {},
     "output_type": "execute_result"
    }
   ],
   "source": [
    "model"
   ]
  },
  {
   "cell_type": "code",
   "execution_count": null,
   "metadata": {},
   "outputs": [],
   "source": []
  }
 ],
 "metadata": {
  "kernelspec": {
   "display_name": "Python 3.8.5 ('cv18-detection-aNucPvec': pipenv)",
   "language": "python",
   "name": "python3"
  },
  "language_info": {
   "codemirror_mode": {
    "name": "ipython",
    "version": 3
   },
   "file_extension": ".py",
   "mimetype": "text/x-python",
   "name": "python",
   "nbconvert_exporter": "python",
   "pygments_lexer": "ipython3",
   "version": "3.8.5"
  },
  "orig_nbformat": 4,
  "vscode": {
   "interpreter": {
    "hash": "72645147a269e0d9246d4d911151fd07088c5af93a7af1a51cc0386dec7706eb"
   }
  }
 },
 "nbformat": 4,
 "nbformat_minor": 2
}
