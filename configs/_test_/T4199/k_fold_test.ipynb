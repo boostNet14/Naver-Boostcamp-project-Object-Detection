{
 "cells": [
  {
   "cell_type": "code",
   "execution_count": 48,
   "metadata": {},
   "outputs": [
    {
     "name": "stdout",
     "output_type": "stream",
     "text": [
      "TRAIN: [   0    1    1 ... 4881 4881 4881]\n",
      "       [0 3 7 ... 7 1 7]\n",
      " TEST: [   6   13   13 ... 4882 4882 4882]\n",
      "       [1 6 7 ... 0 1 1]\n",
      "TRAIN: [   0    1    1 ... 4882 4882 4882]\n",
      "       [0 3 7 ... 0 1 1]\n",
      " TEST: [   5    5    5 ... 4876 4876 4878]\n",
      "       [7 0 0 ... 0 2 0]\n",
      "TRAIN: [   0    3    3 ... 4882 4882 4882]\n",
      "       [0 2 6 ... 0 1 1]\n",
      " TEST: [   1    1    1 ... 4877 4877 4880]\n",
      "       [3 7 4 ... 7 7 0]\n",
      "TRAIN: [   1    1    1 ... 4882 4882 4882]\n",
      "       [3 7 4 ... 0 1 1]\n",
      " TEST: [   0    3    3 ... 4881 4881 4881]\n",
      "       [0 2 6 ... 7 1 7]\n",
      "TRAIN: [   0    1    1 ... 4882 4882 4882]\n",
      "       [0 3 7 ... 0 1 1]\n",
      " TEST: [   4    4    4 ... 4868 4872 4872]\n",
      "       [1 1 1 ... 2 4 6]\n"
     ]
    }
   ],
   "source": [
    "import json\n",
    "import numpy as np\n",
    "from sklearn.model_selection import StratifiedGroupKFold\n",
    "\n",
    "# load json\n",
    "annotation = '/opt/ml/dataset/train.json'\n",
    "\n",
    "with open(annotation) as f:\n",
    "    data = json.load(f)\n",
    "    \n",
    "var = [(ann['image_id'], ann['category_id']) for ann in data['annotations']]\n",
    "\n",
    "X = np.ones((len(data['annotations']),1))\n",
    "y = np.array([v[1] for v in var])\n",
    "groups = np.array([v[0] for v in var])\n",
    "\n",
    "cv = StratifiedGroupKFold(n_splits=5, shuffle=True, random_state=411)\n",
    "\n",
    "for train_idx, val_idx in cv.split(X, y, groups):\n",
    "    print(\"TRAIN:\", groups[train_idx])\n",
    "    print(\"      \", y[train_idx])\n",
    "    print(\" TEST:\", groups[val_idx])\n",
    "    print(\"      \", y[val_idx])"
   ]
  },
  {
   "cell_type": "code",
   "execution_count": 49,
   "metadata": {},
   "outputs": [],
   "source": [
    "import copy\n",
    "\n",
    "for i in range(5):\n",
    "    globals()[\"kfold{}\".format(i)] = []\n",
    "    globals()[\"data_kfold{}\".format(i)] = copy.deepcopy(data)\n",
    "\n",
    "n = 0\n",
    "for train_idxs, val_idxs in cv.split(X, y, groups):\n",
    "    for val_idx in val_idxs:\n",
    "        globals()[\"kfold{}\".format(n)].append(data['annotations'][val_idx])\n",
    "    \n",
    "    globals()[\"data_kfold{}\".format(n)]['annotations'] = globals()[\"kfold{}\".format(n)]\n"
   ]
  },
  {
   "cell_type": "code",
   "execution_count": null,
   "metadata": {},
   "outputs": [],
   "source": [
    "print(globals()['data_kfold0'])"
   ]
  },
  {
   "cell_type": "code",
   "execution_count": null,
   "metadata": {},
   "outputs": [],
   "source": []
  }
 ],
 "metadata": {
  "kernelspec": {
   "display_name": "detection",
   "language": "python",
   "name": "detection"
  },
  "language_info": {
   "codemirror_mode": {
    "name": "ipython",
    "version": 3
   },
   "file_extension": ".py",
   "mimetype": "text/x-python",
   "name": "python",
   "nbconvert_exporter": "python",
   "pygments_lexer": "ipython3",
   "version": "3.7.15"
  },
  "orig_nbformat": 4
 },
 "nbformat": 4,
 "nbformat_minor": 2
}
